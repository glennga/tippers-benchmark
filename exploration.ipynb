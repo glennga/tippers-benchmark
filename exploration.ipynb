{
 "cells": [
  {
   "cell_type": "code",
   "execution_count": 62,
   "metadata": {},
   "outputs": [],
   "source": [
    "%matplotlib inline\n",
    "\n",
    "import matplotlib.pyplot as plt\n",
    "import pandas as pd\n",
    "import sqlite3\n",
    "\n",
    "# 'observation.db' holds both Postgres and MySQL observations.\n",
    "conn = sqlite3.connect('results/observation.db')\n",
    "\n",
    "# These contain the start + end times for both MySQL and Postgres.\n",
    "log_columns = ['id', 'start_time', 'end_time', 'time_delta', 'workload', 'concurrency', 'mpl', 'iso']\n",
    "mysql_log = pd.read_csv('results/mysql-log.csv', names=log_columns)\n",
    "postgres_log = pd.read_csv('results/postgres-log.csv', names=log_columns)"
   ]
  },
  {
   "cell_type": "code",
   "execution_count": 72,
   "metadata": {},
   "outputs": [
    {
     "data": {
      "text/plain": [
       "[<matplotlib.lines.Line2D at 0x122006bd0>]"
      ]
     },
     "execution_count": 72,
     "metadata": {},
     "output_type": "execute_result"
    },
    {
     "data": {
      "image/png": "[encoded data removed]",
      "text/plain": [
       "<Figure size 432x288 with 1 Axes>"
      ]
     },
     "metadata": {
      "needs_background": "light"
     },
     "output_type": "display_data"
    }
   ],
   "source": [
    "# Response time of INSERT-only workload for Postgres and MySQL as a function of MPL.\n",
    "\n",
    "mpls = mysql_log.query('workload == \"i\" and concurrency == \"low\"')['mpl']\n",
    "mysql_response_time = mysql_log.query('workload == \"i\" and concurrency == \"low\"')['time_delta']\n",
    "postgres_response_time = postgres_log.query('workload == \"i\" and concurrency == \"low\"')['time_delta']\n",
    "\n",
    "plt.plot(mpls, mysql_response_time)\n",
    "plt.plot(mpls, postgres_response_time)"
   ]
  },
  {
   "cell_type": "code",
   "execution_count": 21,
   "metadata": {},
   "outputs": [],
   "source": [
    "# Response time of QUERY-only workload for Postgres and MySQL as a function of MPL.\n",
    "\n"
   ]
  },
  {
   "cell_type": "code",
   "execution_count": 22,
   "metadata": {},
   "outputs": [],
   "source": [
    "# Response time of complete workload for Postgres and MySQL as a function of MPL.\n",
    "\n"
   ]
  },
  {
   "cell_type": "code",
   "execution_count": null,
   "metadata": {},
   "outputs": [],
   "source": [
    "# Response time of complete workload for Postgres and MySQL w/ different isolation levels.\n",
    "\n"
   ]
  }
 ],
 "metadata": {
  "kernelspec": {
   "display_name": "Python 3",
   "language": "python",
   "name": "python3"
  },
  "language_info": {
   "codemirror_mode": {
    "name": "ipython",
    "version": 3
   },
   "file_extension": ".py",
   "mimetype": "text/x-python",
   "name": "python",
   "nbconvert_exporter": "python",
   "pygments_lexer": "ipython3",
   "version": "3.7.6"
  }
 },
 "nbformat": 4,
 "nbformat_minor": 4
}
